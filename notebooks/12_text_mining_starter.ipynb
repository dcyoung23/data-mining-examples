{
 "cells": [
  {
   "cell_type": "markdown",
   "id": "4ee39957-ae70-4115-8029-01d68ce8aa2f",
   "metadata": {},
   "source": [
    "# Text Mining"
   ]
  },
  {
   "cell_type": "markdown",
   "id": "fd6ed16e-444f-4f4d-bf8e-bb58d6540b28",
   "metadata": {},
   "source": [
    "#### Import libraries"
   ]
  },
  {
   "cell_type": "code",
   "execution_count": 1,
   "id": "95f22df0-98aa-454b-914d-c86eec775079",
   "metadata": {},
   "outputs": [],
   "source": [
    "import os\n",
    "import pandas as pd\n",
    "import numpy as np\n",
    "from zipfile import ZipFile\n",
    "import nltk\n",
    "from nltk.stem.snowball import SnowballStemmer, EnglishStemmer\n",
    "from nltk.corpus import stopwords\n",
    "from nltk.tokenize import word_tokenize\n",
    "from string import punctuation\n",
    "from sklearn.feature_extraction.text import CountVectorizer, TfidfTransformer\n",
    "from sklearn.decomposition import TruncatedSVD\n",
    "from sklearn.preprocessing import Normalizer\n",
    "from sklearn.pipeline import make_pipeline\n",
    "from sklearn.model_selection import train_test_split\n",
    "from sklearn import linear_model\n",
    "from dmba import classificationSummary\n",
    "\n",
    "SEED = 42"
   ]
  },
  {
   "cell_type": "code",
   "execution_count": 2,
   "id": "2e608ebf-0acb-4a9b-8a2e-52d01e94ef33",
   "metadata": {},
   "outputs": [],
   "source": [
    "#nltk.download('punkt_tab')\n",
    "#nltk.download('stopwords')"
   ]
  },
  {
   "cell_type": "markdown",
   "id": "52368f28-eb30-41cd-bbe1-e749ff3a9b1b",
   "metadata": {},
   "source": [
    "### Example 1: Lecture\n",
    "\n",
    "**Remove punctuation from sample text.**\n",
    "\n",
    "<h4 style=\"color:blue\"> Write Your Code Below: </h4>"
   ]
  },
  {
   "cell_type": "code",
   "execution_count": 3,
   "id": "62acd5d4-4f32-477e-b482-cffe46256db9",
   "metadata": {},
   "outputs": [],
   "source": [
    "s = 'The technician was resolving technical issues quickly.'\n"
   ]
  },
  {
   "cell_type": "markdown",
   "id": "48a5dcc5-b6d9-415e-85b9-953253bacb44",
   "metadata": {},
   "source": [
    "<h3 style=\"color:teal\"> Expected Output: </h3>"
   ]
  },
  {
   "cell_type": "code",
   "execution_count": 3,
   "id": "1a52aa7e-4ab3-4b57-8065-b04d6e01092c",
   "metadata": {},
   "outputs": [
    {
     "data": {
      "text/plain": [
       "['The', 'technician', 'was', 'resolving', 'technical', 'issues', 'quickly']"
      ]
     },
     "execution_count": 3,
     "metadata": {},
     "output_type": "execute_result"
    }
   ],
   "source": []
  },
  {
   "cell_type": "markdown",
   "id": "16dde917-1189-4bdb-b34c-8aa86731a6f6",
   "metadata": {},
   "source": [
    "**Remove stop words from sample text.**\n",
    "\n",
    "<h4 style=\"color:blue\"> Write Your Code Below: </h4>"
   ]
  },
  {
   "cell_type": "code",
   "execution_count": null,
   "id": "b1acd76e-abea-4ed7-aa6d-6343837ed76a",
   "metadata": {},
   "outputs": [],
   "source": [
    "stop_words = stopwords.words('english')\n"
   ]
  },
  {
   "cell_type": "markdown",
   "id": "a6da76ec-3cbc-4b0a-a142-dd79b0c13652",
   "metadata": {},
   "source": [
    "<h3 style=\"color:teal\"> Expected Output: </h3>"
   ]
  },
  {
   "cell_type": "code",
   "execution_count": 4,
   "id": "818fafd1-9a0d-4ffd-a52b-51ee951608c1",
   "metadata": {},
   "outputs": [
    {
     "data": {
      "text/plain": [
       "['technician', 'resolving', 'technical', 'issues', 'quickly']"
      ]
     },
     "execution_count": 4,
     "metadata": {},
     "output_type": "execute_result"
    }
   ],
   "source": []
  },
  {
   "cell_type": "markdown",
   "id": "e8af6f2c-63db-46ec-b831-73522877a97a",
   "metadata": {},
   "source": [
    "**Stem words from sample text.**\n",
    "\n",
    "<h4 style=\"color:blue\"> Write Your Code Below: </h4>"
   ]
  },
  {
   "cell_type": "code",
   "execution_count": null,
   "id": "d666f662-91f1-46e9-8b12-faf6be5d415f",
   "metadata": {},
   "outputs": [],
   "source": [
    "stemmer = SnowballStemmer(\"english\")\n"
   ]
  },
  {
   "cell_type": "markdown",
   "id": "c78ef340-1dfd-4f7d-9a67-3e7a3ddd474e",
   "metadata": {},
   "source": [
    "<h3 style=\"color:teal\"> Expected Output: </h3>"
   ]
  },
  {
   "cell_type": "code",
   "execution_count": 5,
   "id": "0a577eb2-c0c7-40f4-b045-08f843897931",
   "metadata": {},
   "outputs": [
    {
     "data": {
      "text/plain": [
       "['technician', 'resolv', 'technic', 'issu', 'quick']"
      ]
     },
     "execution_count": 5,
     "metadata": {},
     "output_type": "execute_result"
    }
   ],
   "source": []
  },
  {
   "cell_type": "markdown",
   "id": "955ac984-b6a5-4ded-809e-785d61d8ed43",
   "metadata": {},
   "source": [
    "### Example 2: Lecture\n",
    "\n",
    "**Conduct all preprocessing tasks on multiple sentences.**\n",
    "\n",
    "<h4 style=\"color:blue\"> Write Your Code Below: </h4>"
   ]
  },
  {
   "cell_type": "code",
   "execution_count": null,
   "id": "262bdf14-ba2b-43b1-8158-32a37514510c",
   "metadata": {},
   "outputs": [],
   "source": [
    "def prepare_text(s):\n",
    "\n",
    "    return \" \".join(words)"
   ]
  },
  {
   "cell_type": "code",
   "execution_count": null,
   "id": "f7e86059-c583-4d60-853c-052c1c9cb47e",
   "metadata": {},
   "outputs": [],
   "source": [
    "sentences = ['The technician was resolving technical issues quickly.',\n",
    "             'The engineer resolved several technical problems efficiently.']\n"
   ]
  },
  {
   "cell_type": "markdown",
   "id": "eeed84ed-55ae-4c3f-9034-9d7d00490341",
   "metadata": {},
   "source": [
    "<h3 style=\"color:teal\"> Expected Output: </h3>"
   ]
  },
  {
   "cell_type": "code",
   "execution_count": 6,
   "id": "c428aad3-13ce-4e6f-ba76-e5005286bf60",
   "metadata": {},
   "outputs": [],
   "source": []
  },
  {
   "cell_type": "code",
   "execution_count": 7,
   "id": "db419238-8110-4924-85ee-e85e133444e0",
   "metadata": {},
   "outputs": [
    {
     "data": {
      "text/plain": [
       "['technician resolv technic issu quick',\n",
       " 'engin resolv sever technic problem effici']"
      ]
     },
     "execution_count": 7,
     "metadata": {},
     "output_type": "execute_result"
    }
   ],
   "source": []
  },
  {
   "cell_type": "markdown",
   "id": "86d99fcc-6994-4ff4-b4bd-236bc8f14aa1",
   "metadata": {},
   "source": [
    "**Create Bag-Of-Words count matrix.**\n",
    "\n",
    "<h4 style=\"color:blue\"> Write Your Code Below: </h4>"
   ]
  },
  {
   "cell_type": "code",
   "execution_count": null,
   "id": "3edb8044-bf85-4938-94a2-deaf7228cc28",
   "metadata": {},
   "outputs": [],
   "source": []
  },
  {
   "cell_type": "markdown",
   "id": "bd50c148-3461-4d5a-8e75-910ae4d661aa",
   "metadata": {},
   "source": [
    "<h3 style=\"color:teal\"> Expected Output: </h3>"
   ]
  },
  {
   "cell_type": "code",
   "execution_count": 8,
   "id": "107ea245-4453-45d7-ba5b-272ffec92144",
   "metadata": {},
   "outputs": [
    {
     "data": {
      "text/html": [
       "<div>\n",
       "<style scoped>\n",
       "    .dataframe tbody tr th:only-of-type {\n",
       "        vertical-align: middle;\n",
       "    }\n",
       "\n",
       "    .dataframe tbody tr th {\n",
       "        vertical-align: top;\n",
       "    }\n",
       "\n",
       "    .dataframe thead th {\n",
       "        text-align: right;\n",
       "    }\n",
       "</style>\n",
       "<table border=\"1\" class=\"dataframe\">\n",
       "  <thead>\n",
       "    <tr style=\"text-align: right;\">\n",
       "      <th></th>\n",
       "      <th>effici</th>\n",
       "      <th>engin</th>\n",
       "      <th>issu</th>\n",
       "      <th>problem</th>\n",
       "      <th>quick</th>\n",
       "      <th>resolv</th>\n",
       "      <th>sever</th>\n",
       "      <th>technic</th>\n",
       "      <th>technician</th>\n",
       "    </tr>\n",
       "  </thead>\n",
       "  <tbody>\n",
       "    <tr>\n",
       "      <th>0</th>\n",
       "      <td>0</td>\n",
       "      <td>0</td>\n",
       "      <td>1</td>\n",
       "      <td>0</td>\n",
       "      <td>1</td>\n",
       "      <td>1</td>\n",
       "      <td>0</td>\n",
       "      <td>1</td>\n",
       "      <td>1</td>\n",
       "    </tr>\n",
       "    <tr>\n",
       "      <th>1</th>\n",
       "      <td>1</td>\n",
       "      <td>1</td>\n",
       "      <td>0</td>\n",
       "      <td>1</td>\n",
       "      <td>0</td>\n",
       "      <td>1</td>\n",
       "      <td>1</td>\n",
       "      <td>1</td>\n",
       "      <td>0</td>\n",
       "    </tr>\n",
       "  </tbody>\n",
       "</table>\n",
       "</div>"
      ],
      "text/plain": [
       "   effici  engin  issu  problem  quick  resolv  sever  technic  technician\n",
       "0       0      0     1        0      1       1      0        1           1\n",
       "1       1      1     0        1      0       1      1        1           0"
      ]
     },
     "execution_count": 8,
     "metadata": {},
     "output_type": "execute_result"
    }
   ],
   "source": []
  },
  {
   "cell_type": "markdown",
   "id": "3f5e5e66-36e1-4619-83fa-635b30038d74",
   "metadata": {},
   "source": [
    "**Create TF-IDF matrix.**\n",
    "\n",
    "<h4 style=\"color:blue\"> Write Your Code Below: </h4>"
   ]
  },
  {
   "cell_type": "code",
   "execution_count": null,
   "id": "d0cbb4b3-41db-4a6c-bf11-c3e152c6a8b6",
   "metadata": {},
   "outputs": [],
   "source": []
  },
  {
   "cell_type": "markdown",
   "id": "9ff5227d-f79b-4ea1-926c-4359c8815338",
   "metadata": {},
   "source": [
    "<h3 style=\"color:teal\"> Expected Output: </h3>"
   ]
  },
  {
   "cell_type": "code",
   "execution_count": 9,
   "id": "6e240c20-3c41-4498-b191-0175b8326280",
   "metadata": {},
   "outputs": [
    {
     "data": {
      "text/html": [
       "<div>\n",
       "<style scoped>\n",
       "    .dataframe tbody tr th:only-of-type {\n",
       "        vertical-align: middle;\n",
       "    }\n",
       "\n",
       "    .dataframe tbody tr th {\n",
       "        vertical-align: top;\n",
       "    }\n",
       "\n",
       "    .dataframe thead th {\n",
       "        text-align: right;\n",
       "    }\n",
       "</style>\n",
       "<table border=\"1\" class=\"dataframe\">\n",
       "  <thead>\n",
       "    <tr style=\"text-align: right;\">\n",
       "      <th></th>\n",
       "      <th>effici</th>\n",
       "      <th>engin</th>\n",
       "      <th>issu</th>\n",
       "      <th>problem</th>\n",
       "      <th>quick</th>\n",
       "      <th>resolv</th>\n",
       "      <th>sever</th>\n",
       "      <th>technic</th>\n",
       "      <th>technician</th>\n",
       "    </tr>\n",
       "  </thead>\n",
       "  <tbody>\n",
       "    <tr>\n",
       "      <th>0</th>\n",
       "      <td>0.000000</td>\n",
       "      <td>0.000000</td>\n",
       "      <td>1.693147</td>\n",
       "      <td>0.000000</td>\n",
       "      <td>1.693147</td>\n",
       "      <td>1.0</td>\n",
       "      <td>0.000000</td>\n",
       "      <td>1.0</td>\n",
       "      <td>1.693147</td>\n",
       "    </tr>\n",
       "    <tr>\n",
       "      <th>1</th>\n",
       "      <td>1.693147</td>\n",
       "      <td>1.693147</td>\n",
       "      <td>0.000000</td>\n",
       "      <td>1.693147</td>\n",
       "      <td>0.000000</td>\n",
       "      <td>1.0</td>\n",
       "      <td>1.693147</td>\n",
       "      <td>1.0</td>\n",
       "      <td>0.000000</td>\n",
       "    </tr>\n",
       "  </tbody>\n",
       "</table>\n",
       "</div>"
      ],
      "text/plain": [
       "     effici     engin      issu   problem     quick  resolv     sever  \\\n",
       "0  0.000000  0.000000  1.693147  0.000000  1.693147     1.0  0.000000   \n",
       "1  1.693147  1.693147  0.000000  1.693147  0.000000     1.0  1.693147   \n",
       "\n",
       "   technic  technician  \n",
       "0      1.0    1.693147  \n",
       "1      1.0    0.000000  "
      ]
     },
     "execution_count": 9,
     "metadata": {},
     "output_type": "execute_result"
    }
   ],
   "source": []
  },
  {
   "cell_type": "markdown",
   "id": "2efe3008-3e3d-43fe-98e9-c594b910ff9c",
   "metadata": {},
   "source": [
    "# Problem 20.3: Classifying Classified Ads Submitted Online\n",
    "Consider the case of a website that caters to the needs of a specific farming community, and carries classified ads intended for that community.  Anyone, including robots, can post an ad via a web interface, and the site owners have problems with ads that are fraudulent, spam, or simply not relevant to the community.  They have provided a file with 4143 ads, each ad in a row, and each ad labeled as either -1 (not relevant) or 1 (relevant).\n",
    "The goal is to develop a predictive model that can classify ads automatically.\n",
    "\n",
    "**Read in `farm-ads.csv` data and display the top for relevant and non-relevant ads**\n",
    "\n",
    "**Following the example in the chapter, preprocess the data in Python, and create a term-document matrix, and a concept matrix. Limit the number of concepts to 20.**\n",
    "\n",
    "<h4 style=\"color:blue\"> Write Your Code Below: </h4>"
   ]
  },
  {
   "cell_type": "code",
   "execution_count": null,
   "id": "d9d90e66-1c6e-4a6a-b45b-080d9ab701f8",
   "metadata": {},
   "outputs": [],
   "source": []
  },
  {
   "cell_type": "markdown",
   "id": "75b02209-db14-4acf-88d4-b9cb34a4a348",
   "metadata": {},
   "source": [
    "<h3 style=\"color:teal\"> Expected Output: </h3>"
   ]
  },
  {
   "cell_type": "code",
   "execution_count": 10,
   "id": "6257b0f8-b374-4677-82ec-8402954cc8ef",
   "metadata": {},
   "outputs": [
    {
     "name": "stdout",
     "output_type": "stream",
     "text": [
      "2210 relevant ads\n",
      "      relevance                                               text\n",
      "1933          1   ad-abdominal ad-aortic ad-aneurysm ad-million...\n",
      "1934          1   ad-ac ad-montana ad-ranch ad-horse ad-cattle ...\n",
      "1935          1   ad-acai ad-pure ad-product ad-amazon title-ac...\n",
      "1936          1   ad-acclaim ad-website ad-builder ad-design ad...\n",
      "1937          1   ad-acclaim ad-website ad-builder ad-design ad...\n",
      "1933 non-relevant ads\n",
      "   relevance                                               text\n",
      "0         -1   ad-abdominal ad-aortic ad-aneurysm ad-doctorf...\n",
      "1         -1   ad-abdominal ad-aortic ad-aneurysm ad-million...\n",
      "2         -1   ad-absorbent ad-oil ad-snar ad-factory ad-dir...\n",
      "3         -1   ad-acid ad-reflux ad-relief ad-top ad-treatme...\n",
      "4         -1   ad-acid ad-reflux ad-symptom ad-acid ad-reflu...\n"
     ]
    }
   ],
   "source": []
  },
  {
   "cell_type": "markdown",
   "id": "a09c724e-a97c-47e3-a1de-27b1527dac75",
   "metadata": {},
   "source": [
    "**Preprocess data and create TF-IDF matrix**\n",
    "\n",
    "Use custom token pattern alpha letters and dashes (-)\n",
    "\n",
    "<h4 style=\"color:blue\"> Write Your Code Below: </h4>"
   ]
  },
  {
   "cell_type": "code",
   "execution_count": null,
   "id": "050e3cd5-e9e9-4620-9414-f5e6767e07fd",
   "metadata": {},
   "outputs": [],
   "source": []
  },
  {
   "cell_type": "markdown",
   "id": "637155d5-a19a-4178-8d62-ce95a93b6104",
   "metadata": {},
   "source": [
    "<h3 style=\"color:teal\"> Expected Output: </h3>"
   ]
  },
  {
   "cell_type": "code",
   "execution_count": 11,
   "id": "c7dd8404-5fb8-4903-ae40-b0079e675dad",
   "metadata": {},
   "outputs": [
    {
     "name": "stdout",
     "output_type": "stream",
     "text": [
      "(4143, 58047)\n"
     ]
    }
   ],
   "source": []
  },
  {
   "cell_type": "code",
   "execution_count": null,
   "id": "994885d6-e70c-410c-824c-6dd4eb2f5339",
   "metadata": {},
   "outputs": [],
   "source": []
  },
  {
   "cell_type": "markdown",
   "id": "48908c88-6c24-4764-9141-a0de3b761893",
   "metadata": {},
   "source": [
    "**Reduce dimensions using truncated singular value decomposition (SVD)**\n",
    "\n",
    "<h4 style=\"color:blue\"> Write Your Code Below: </h4>"
   ]
  },
  {
   "cell_type": "code",
   "execution_count": null,
   "id": "8ddfc0e6-26c4-4139-ab11-dcef955ee5ab",
   "metadata": {},
   "outputs": [],
   "source": []
  },
  {
   "cell_type": "markdown",
   "id": "b15c1ef8-34ca-424e-9449-f18a54b988b4",
   "metadata": {},
   "source": [
    "<h3 style=\"color:teal\"> Expected Output: </h3>"
   ]
  },
  {
   "cell_type": "code",
   "execution_count": 12,
   "id": "1e8a6865-0adf-4229-985a-6da4bcfaf334",
   "metadata": {},
   "outputs": [
    {
     "name": "stdout",
     "output_type": "stream",
     "text": [
      "(4143, 20)\n"
     ]
    }
   ],
   "source": []
  },
  {
   "cell_type": "code",
   "execution_count": null,
   "id": "6c193872-e85d-42d4-83a6-fd1262a98917",
   "metadata": {},
   "outputs": [],
   "source": []
  },
  {
   "cell_type": "markdown",
   "id": "875a16a1-a9fc-4dcc-ba13-195d56a9220a",
   "metadata": {},
   "source": [
    "## Solution 20.3.c\n",
    "\n",
    "Using logistic regression, partition the data (60\\% training, 40\\% validation), and develop a model to classify the documents as `relevant' or `non-relevant.'\n",
    "\n",
    "<h4 style=\"color:blue\"> Write Your Code Below: </h4>"
   ]
  },
  {
   "cell_type": "code",
   "execution_count": null,
   "id": "788589d8-f28c-4ca3-baea-87536ea17827",
   "metadata": {},
   "outputs": [],
   "source": [
    "# split dataset into 60% training and 40% validation set\n",
    "train_X, valid_X, train_y, valid_y = train_test_split(lsa_tfidf,\n",
    "                                                      farm_ads.relevance, \n",
    "                                                      test_size=0.4, \n",
    "                                                      random_state=SEED)\n",
    "\n",
    "# run logistic regression model on training\n",
    "logit_reg = linear_model.LogisticRegression(solver='lbfgs')\n",
    "logit_reg.fit(train_X, train_y)\n",
    "\n",
    "# print confusion matrix and accuracty\n",
    "classificationSummary(valid_y, logit_reg.predict(valid_X), \n",
    "                      class_names=logit_reg.classes_)"
   ]
  },
  {
   "cell_type": "markdown",
   "id": "30dd86f7-dce6-4ef5-8a0d-8865a49a7da3",
   "metadata": {},
   "source": [
    "<h3 style=\"color:teal\"> Expected Output: </h3>"
   ]
  },
  {
   "cell_type": "code",
   "execution_count": 13,
   "id": "2b3e6e89-7864-4be1-93af-5cf3c3096d63",
   "metadata": {},
   "outputs": [
    {
     "name": "stdout",
     "output_type": "stream",
     "text": [
      "Confusion Matrix (Accuracy 0.7829)\n",
      "\n",
      "       Prediction\n",
      "Actual  -1   1\n",
      "    -1 551 242\n",
      "     1 118 747\n"
     ]
    }
   ],
   "source": []
  },
  {
   "cell_type": "code",
   "execution_count": null,
   "id": "34da949f-65f1-4ec4-9f4d-dd037171c38e",
   "metadata": {},
   "outputs": [],
   "source": []
  }
 ],
 "metadata": {
  "kernelspec": {
   "display_name": "Python 3 (ipykernel)",
   "language": "python",
   "name": "python3"
  },
  "language_info": {
   "codemirror_mode": {
    "name": "ipython",
    "version": 3
   },
   "file_extension": ".py",
   "mimetype": "text/x-python",
   "name": "python",
   "nbconvert_exporter": "python",
   "pygments_lexer": "ipython3",
   "version": "3.12.7"
  }
 },
 "nbformat": 4,
 "nbformat_minor": 5
}
